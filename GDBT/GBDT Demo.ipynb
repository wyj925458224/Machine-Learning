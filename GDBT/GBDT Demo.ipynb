{
 "cells": [
  {
   "cell_type": "code",
   "execution_count": 21,
   "metadata": {},
   "outputs": [],
   "source": [
    "import numpy as np\n",
    "import pandas as pd\n",
    "from sklearn.ensemble import GradientBoostingRegressor\n",
    "from sklearn.ensemble import GradientBoostingClassifier\n",
    "from sklearn.grid_search import GridSearchCV"
   ]
  },
  {
   "cell_type": "markdown",
   "metadata": {},
   "source": [
    "## 获取训练数据"
   ]
  },
  {
   "cell_type": "code",
   "execution_count": 2,
   "metadata": {},
   "outputs": [],
   "source": [
    "train_feature = np.genfromtxt(\"/Users/wangyajun/workspace/feature_train.txt\", dtype=np.float32)"
   ]
  },
  {
   "cell_type": "code",
   "execution_count": 4,
   "metadata": {},
   "outputs": [],
   "source": [
    "feature_num = len(train_feature[0])\n",
    "train_feature = pd.DataFrame(train_feature)\n",
    "train_label = train_feature.iloc[:, feature_num-1]\n",
    "train_feature = train_feature.iloc[:, 0:feature_num-2]"
   ]
  },
  {
   "cell_type": "code",
   "execution_count": 5,
   "metadata": {},
   "outputs": [
    {
     "data": {
      "text/html": [
       "<div>\n",
       "<style scoped>\n",
       "    .dataframe tbody tr th:only-of-type {\n",
       "        vertical-align: middle;\n",
       "    }\n",
       "\n",
       "    .dataframe tbody tr th {\n",
       "        vertical-align: top;\n",
       "    }\n",
       "\n",
       "    .dataframe thead th {\n",
       "        text-align: right;\n",
       "    }\n",
       "</style>\n",
       "<table border=\"1\" class=\"dataframe\">\n",
       "  <thead>\n",
       "    <tr style=\"text-align: right;\">\n",
       "      <th></th>\n",
       "      <th>0</th>\n",
       "      <th>1</th>\n",
       "      <th>2</th>\n",
       "      <th>3</th>\n",
       "      <th>4</th>\n",
       "      <th>5</th>\n",
       "      <th>6</th>\n",
       "    </tr>\n",
       "  </thead>\n",
       "  <tbody>\n",
       "    <tr>\n",
       "      <td>0</td>\n",
       "      <td>0.005988</td>\n",
       "      <td>0.569231</td>\n",
       "      <td>0.647059</td>\n",
       "      <td>0.951220</td>\n",
       "      <td>-0.225434</td>\n",
       "      <td>0.837989</td>\n",
       "      <td>0.357258</td>\n",
       "    </tr>\n",
       "    <tr>\n",
       "      <td>1</td>\n",
       "      <td>0.161677</td>\n",
       "      <td>0.743195</td>\n",
       "      <td>0.682353</td>\n",
       "      <td>0.960976</td>\n",
       "      <td>-0.086705</td>\n",
       "      <td>0.780527</td>\n",
       "      <td>0.282945</td>\n",
       "    </tr>\n",
       "    <tr>\n",
       "      <td>2</td>\n",
       "      <td>0.113772</td>\n",
       "      <td>0.744379</td>\n",
       "      <td>0.541176</td>\n",
       "      <td>0.990244</td>\n",
       "      <td>-0.005780</td>\n",
       "      <td>0.721468</td>\n",
       "      <td>0.434110</td>\n",
       "    </tr>\n",
       "    <tr>\n",
       "      <td>3</td>\n",
       "      <td>0.053892</td>\n",
       "      <td>0.608284</td>\n",
       "      <td>0.764706</td>\n",
       "      <td>0.951220</td>\n",
       "      <td>-0.248555</td>\n",
       "      <td>0.821229</td>\n",
       "      <td>0.848604</td>\n",
       "    </tr>\n",
       "    <tr>\n",
       "      <td>4</td>\n",
       "      <td>0.173653</td>\n",
       "      <td>0.866272</td>\n",
       "      <td>0.682353</td>\n",
       "      <td>0.951220</td>\n",
       "      <td>0.017341</td>\n",
       "      <td>0.704709</td>\n",
       "      <td>-0.021002</td>\n",
       "    </tr>\n",
       "  </tbody>\n",
       "</table>\n",
       "</div>"
      ],
      "text/plain": [
       "          0         1         2         3         4         5         6\n",
       "0  0.005988  0.569231  0.647059  0.951220 -0.225434  0.837989  0.357258\n",
       "1  0.161677  0.743195  0.682353  0.960976 -0.086705  0.780527  0.282945\n",
       "2  0.113772  0.744379  0.541176  0.990244 -0.005780  0.721468  0.434110\n",
       "3  0.053892  0.608284  0.764706  0.951220 -0.248555  0.821229  0.848604\n",
       "4  0.173653  0.866272  0.682353  0.951220  0.017341  0.704709 -0.021002"
      ]
     },
     "execution_count": 5,
     "metadata": {},
     "output_type": "execute_result"
    }
   ],
   "source": [
    "train_feature"
   ]
  },
  {
   "cell_type": "code",
   "execution_count": 6,
   "metadata": {},
   "outputs": [
    {
     "data": {
      "text/plain": [
       "0    320.0\n",
       "1    361.0\n",
       "2    364.0\n",
       "3    336.0\n",
       "4    358.0\n",
       "Name: 8, dtype: float32"
      ]
     },
     "execution_count": 6,
     "metadata": {},
     "output_type": "execute_result"
    }
   ],
   "source": [
    "train_label"
   ]
  },
  {
   "cell_type": "code",
   "execution_count": 7,
   "metadata": {},
   "outputs": [],
   "source": [
    "test_feature = np.genfromtxt(\"/Users/wangyajun/workspace/feature_test.txt\", dtype=np.float32)"
   ]
  },
  {
   "cell_type": "code",
   "execution_count": 8,
   "metadata": {},
   "outputs": [],
   "source": [
    "feature_num = len(test_feature[0])\n",
    "test_feature = pd.DataFrame(test_feature)\n",
    "test_label = test_feature.iloc[:, feature_num-1]\n",
    "test_feature = test_feature.iloc[:, 0:feature_num-2]"
   ]
  },
  {
   "cell_type": "code",
   "execution_count": 9,
   "metadata": {},
   "outputs": [
    {
     "data": {
      "text/html": [
       "<div>\n",
       "<style scoped>\n",
       "    .dataframe tbody tr th:only-of-type {\n",
       "        vertical-align: middle;\n",
       "    }\n",
       "\n",
       "    .dataframe tbody tr th {\n",
       "        vertical-align: top;\n",
       "    }\n",
       "\n",
       "    .dataframe thead th {\n",
       "        text-align: right;\n",
       "    }\n",
       "</style>\n",
       "<table border=\"1\" class=\"dataframe\">\n",
       "  <thead>\n",
       "    <tr style=\"text-align: right;\">\n",
       "      <th></th>\n",
       "      <th>0</th>\n",
       "      <th>1</th>\n",
       "      <th>2</th>\n",
       "      <th>3</th>\n",
       "      <th>4</th>\n",
       "      <th>5</th>\n",
       "      <th>6</th>\n",
       "    </tr>\n",
       "  </thead>\n",
       "  <tbody>\n",
       "    <tr>\n",
       "      <td>0</td>\n",
       "      <td>0.005988</td>\n",
       "      <td>0.569231</td>\n",
       "      <td>0.647059</td>\n",
       "      <td>0.951220</td>\n",
       "      <td>-0.225434</td>\n",
       "      <td>0.837989</td>\n",
       "      <td>0.357258</td>\n",
       "    </tr>\n",
       "    <tr>\n",
       "      <td>1</td>\n",
       "      <td>0.161677</td>\n",
       "      <td>0.743195</td>\n",
       "      <td>0.682353</td>\n",
       "      <td>0.960976</td>\n",
       "      <td>-0.086705</td>\n",
       "      <td>0.780527</td>\n",
       "      <td>0.282945</td>\n",
       "    </tr>\n",
       "    <tr>\n",
       "      <td>2</td>\n",
       "      <td>0.113772</td>\n",
       "      <td>0.744379</td>\n",
       "      <td>0.541176</td>\n",
       "      <td>0.990244</td>\n",
       "      <td>-0.005780</td>\n",
       "      <td>0.721468</td>\n",
       "      <td>0.434110</td>\n",
       "    </tr>\n",
       "    <tr>\n",
       "      <td>3</td>\n",
       "      <td>0.053892</td>\n",
       "      <td>0.608284</td>\n",
       "      <td>0.764706</td>\n",
       "      <td>0.951220</td>\n",
       "      <td>-0.248555</td>\n",
       "      <td>0.821229</td>\n",
       "      <td>0.848604</td>\n",
       "    </tr>\n",
       "    <tr>\n",
       "      <td>4</td>\n",
       "      <td>0.173653</td>\n",
       "      <td>0.866272</td>\n",
       "      <td>0.682353</td>\n",
       "      <td>0.951220</td>\n",
       "      <td>0.017341</td>\n",
       "      <td>0.704709</td>\n",
       "      <td>-0.021002</td>\n",
       "    </tr>\n",
       "  </tbody>\n",
       "</table>\n",
       "</div>"
      ],
      "text/plain": [
       "          0         1         2         3         4         5         6\n",
       "0  0.005988  0.569231  0.647059  0.951220 -0.225434  0.837989  0.357258\n",
       "1  0.161677  0.743195  0.682353  0.960976 -0.086705  0.780527  0.282945\n",
       "2  0.113772  0.744379  0.541176  0.990244 -0.005780  0.721468  0.434110\n",
       "3  0.053892  0.608284  0.764706  0.951220 -0.248555  0.821229  0.848604\n",
       "4  0.173653  0.866272  0.682353  0.951220  0.017341  0.704709 -0.021002"
      ]
     },
     "execution_count": 9,
     "metadata": {},
     "output_type": "execute_result"
    }
   ],
   "source": [
    "test_feature"
   ]
  },
  {
   "cell_type": "code",
   "execution_count": 10,
   "metadata": {},
   "outputs": [
    {
     "data": {
      "text/plain": [
       "0    320.0\n",
       "1    361.0\n",
       "2    364.0\n",
       "3    336.0\n",
       "4    358.0\n",
       "Name: 8, dtype: float32"
      ]
     },
     "execution_count": 10,
     "metadata": {},
     "output_type": "execute_result"
    }
   ],
   "source": [
    "test_label"
   ]
  },
  {
   "cell_type": "markdown",
   "metadata": {},
   "source": [
    "## GBDT模型\n",
    "1) n_estimators: 也就是弱学习器的最大迭代次数，或者说最大的弱学习器的个数。\n",
    "\n",
    "2) learning_rate: 即每个弱学习器的权重缩减系数，也称作步长。\n",
    "\n",
    "3) subsample: 即我们在原理篇的正则化章节讲到的子采样，取值为(0,1]。注意这里的子采样和随机森林不一样，随机森林使用的是放回抽样，而这里是不放回抽样。推荐在[0.5, 0.8]之间，默认是1.0，即不使用子采样。\n",
    "\n",
    "4) init: 即我们的初始化的时候的弱学习器，拟合对应原理篇里面的f0(x)，如果不输入，则用训练集样本来做样本集的初始化分类回归预测。否则用init参数提供的学习器做初始化分类回归预测。一般用在我们对数据有先验知识，或者之前做过一些拟合的时候，如果没有的话就不用管这个参数了。\n",
    "\n",
    "5) loss: 即我们GBDT算法中的损失函数。分类模型和回归模型的损失函数是不一样的。\n",
    "    \n",
    "    对于分类模型，有对数似然损失函数\"deviance\"和指数损失函数\"exponential\"两者输入选择。默认是对数似然损失函数\"deviance\"。在原理篇中对这些分类损失函数有详细的介绍。一般来说，推荐使用默认的\"deviance\"。它对二元分离和多元分类各自都有比较好的优化。而指数损失函数等于把我们带到了Adaboost算法。\n",
    "    \n",
    "    对于回归模型，有均方差\"ls\", 绝对损失\"lad\", Huber损失\"huber\"和分位数损失“quantile”。默认是均方差\"ls\"。一般来说，如果数据的噪音点不多，用默认的均方差\"ls\"比较好。如果是噪音点较多，则推荐用抗噪音的损失函数\"huber\"。而如果我们需要对训练集进行分段预测的时候，则采用“quantile”。\n",
    "\n",
    "6) alpha：这个参数只有GradientBoostingRegressor有，当我们使用Huber损失\"huber\"和分位数损失“quantile”时，需要指定分位数的值。默认是0.9，如果噪音点较多，可以适当降低这个分位数的值。"
   ]
  },
  {
   "cell_type": "code",
   "execution_count": 11,
   "metadata": {},
   "outputs": [],
   "source": [
    "gbdt = GradientBoostingRegressor(\n",
    "  loss = 'ls' \n",
    ", learning_rate = 0.1\n",
    ", n_estimators = 100\n",
    ", subsample = 1\n",
    ", min_samples_split = 2\n",
    ", min_samples_leaf = 1\n",
    ", max_depth = 3\n",
    ", init = None\n",
    ", random_state = None\n",
    ", max_features = None\n",
    ", alpha = 0.9\n",
    ", verbose = 0\n",
    ", max_leaf_nodes = None\n",
    ", warm_start = False\n",
    ")"
   ]
  },
  {
   "cell_type": "code",
   "execution_count": 13,
   "metadata": {},
   "outputs": [
    {
     "name": "stdout",
     "output_type": "stream",
     "text": [
      "pre: 320.0008173984891   label: 320.0\n",
      "pre: 360.99965033119537   label: 361.0\n",
      "pre: 363.99928183902097   label: 364.0\n",
      "pre: 336.0002344322584   label: 336.0\n",
      "pre: 358.0000159974151   label: 358.0\n",
      "均方误差： 0.0004271315892651728\n"
     ]
    }
   ],
   "source": [
    "gbdt.fit(train_feature, train_label)\n",
    "pre = gbdt.predict(test_feature)\n",
    "total_error = 0\n",
    "\n",
    "for i in range(pre.shape[0]):\n",
    "    print(\"pre:\", pre[i], '  label:', test_label[i])\n",
    "print(\"均方误差：\", np.sqrt((test_label - pre) ** 2).mean())"
   ]
  },
  {
   "cell_type": "markdown",
   "metadata": {},
   "source": [
    "## 调参过程"
   ]
  },
  {
   "cell_type": "markdown",
   "metadata": {},
   "source": [
    "参考博客： https://www.cnblogs.com/DjangoBlog/p/6201663.html"
   ]
  },
  {
   "cell_type": "code",
   "execution_count": 8,
   "metadata": {},
   "outputs": [],
   "source": [
    "data = pd.read_csv(\"/Users/wangyajun/workspace/Machine Learning Demo/GBDT/train_modified.csv\", header = 0)"
   ]
  },
  {
   "cell_type": "code",
   "execution_count": 9,
   "metadata": {},
   "outputs": [
    {
     "data": {
      "text/html": [
       "<div>\n",
       "<style scoped>\n",
       "    .dataframe tbody tr th:only-of-type {\n",
       "        vertical-align: middle;\n",
       "    }\n",
       "\n",
       "    .dataframe tbody tr th {\n",
       "        vertical-align: top;\n",
       "    }\n",
       "\n",
       "    .dataframe thead th {\n",
       "        text-align: right;\n",
       "    }\n",
       "</style>\n",
       "<table border=\"1\" class=\"dataframe\">\n",
       "  <thead>\n",
       "    <tr style=\"text-align: right;\">\n",
       "      <th></th>\n",
       "      <th>Disbursed</th>\n",
       "      <th>Existing_EMI</th>\n",
       "      <th>ID</th>\n",
       "      <th>Loan_Amount_Applied</th>\n",
       "      <th>Loan_Tenure_Applied</th>\n",
       "      <th>Monthly_Income</th>\n",
       "      <th>Var4</th>\n",
       "      <th>Var5</th>\n",
       "      <th>Age</th>\n",
       "      <th>EMI_Loan_Submitted_Missing</th>\n",
       "      <th>...</th>\n",
       "      <th>Var2_2</th>\n",
       "      <th>Var2_3</th>\n",
       "      <th>Var2_4</th>\n",
       "      <th>Var2_5</th>\n",
       "      <th>Var2_6</th>\n",
       "      <th>Mobile_Verified_0</th>\n",
       "      <th>Mobile_Verified_1</th>\n",
       "      <th>Source_0</th>\n",
       "      <th>Source_1</th>\n",
       "      <th>Source_2</th>\n",
       "    </tr>\n",
       "  </thead>\n",
       "  <tbody>\n",
       "    <tr>\n",
       "      <td>0</td>\n",
       "      <td>0.0</td>\n",
       "      <td>0.0</td>\n",
       "      <td>ID000002C20</td>\n",
       "      <td>300000.0</td>\n",
       "      <td>5.0</td>\n",
       "      <td>20000</td>\n",
       "      <td>1</td>\n",
       "      <td>0</td>\n",
       "      <td>37</td>\n",
       "      <td>1</td>\n",
       "      <td>...</td>\n",
       "      <td>0.0</td>\n",
       "      <td>0.0</td>\n",
       "      <td>0.0</td>\n",
       "      <td>0.0</td>\n",
       "      <td>1.0</td>\n",
       "      <td>1.0</td>\n",
       "      <td>0.0</td>\n",
       "      <td>1.0</td>\n",
       "      <td>0.0</td>\n",
       "      <td>0.0</td>\n",
       "    </tr>\n",
       "    <tr>\n",
       "      <td>1</td>\n",
       "      <td>0.0</td>\n",
       "      <td>0.0</td>\n",
       "      <td>ID000004E40</td>\n",
       "      <td>200000.0</td>\n",
       "      <td>2.0</td>\n",
       "      <td>35000</td>\n",
       "      <td>3</td>\n",
       "      <td>13</td>\n",
       "      <td>30</td>\n",
       "      <td>0</td>\n",
       "      <td>...</td>\n",
       "      <td>0.0</td>\n",
       "      <td>0.0</td>\n",
       "      <td>0.0</td>\n",
       "      <td>0.0</td>\n",
       "      <td>1.0</td>\n",
       "      <td>0.0</td>\n",
       "      <td>1.0</td>\n",
       "      <td>1.0</td>\n",
       "      <td>0.0</td>\n",
       "      <td>0.0</td>\n",
       "    </tr>\n",
       "    <tr>\n",
       "      <td>2</td>\n",
       "      <td>0.0</td>\n",
       "      <td>0.0</td>\n",
       "      <td>ID000007H20</td>\n",
       "      <td>600000.0</td>\n",
       "      <td>4.0</td>\n",
       "      <td>22500</td>\n",
       "      <td>1</td>\n",
       "      <td>0</td>\n",
       "      <td>34</td>\n",
       "      <td>1</td>\n",
       "      <td>...</td>\n",
       "      <td>0.0</td>\n",
       "      <td>0.0</td>\n",
       "      <td>0.0</td>\n",
       "      <td>0.0</td>\n",
       "      <td>0.0</td>\n",
       "      <td>0.0</td>\n",
       "      <td>1.0</td>\n",
       "      <td>0.0</td>\n",
       "      <td>0.0</td>\n",
       "      <td>1.0</td>\n",
       "    </tr>\n",
       "    <tr>\n",
       "      <td>3</td>\n",
       "      <td>0.0</td>\n",
       "      <td>0.0</td>\n",
       "      <td>ID000008I30</td>\n",
       "      <td>1000000.0</td>\n",
       "      <td>5.0</td>\n",
       "      <td>35000</td>\n",
       "      <td>3</td>\n",
       "      <td>10</td>\n",
       "      <td>28</td>\n",
       "      <td>1</td>\n",
       "      <td>...</td>\n",
       "      <td>0.0</td>\n",
       "      <td>0.0</td>\n",
       "      <td>0.0</td>\n",
       "      <td>0.0</td>\n",
       "      <td>0.0</td>\n",
       "      <td>0.0</td>\n",
       "      <td>1.0</td>\n",
       "      <td>0.0</td>\n",
       "      <td>0.0</td>\n",
       "      <td>1.0</td>\n",
       "    </tr>\n",
       "    <tr>\n",
       "      <td>4</td>\n",
       "      <td>0.0</td>\n",
       "      <td>25000.0</td>\n",
       "      <td>ID000009J40</td>\n",
       "      <td>500000.0</td>\n",
       "      <td>2.0</td>\n",
       "      <td>100000</td>\n",
       "      <td>3</td>\n",
       "      <td>17</td>\n",
       "      <td>31</td>\n",
       "      <td>1</td>\n",
       "      <td>...</td>\n",
       "      <td>0.0</td>\n",
       "      <td>0.0</td>\n",
       "      <td>0.0</td>\n",
       "      <td>0.0</td>\n",
       "      <td>0.0</td>\n",
       "      <td>0.0</td>\n",
       "      <td>1.0</td>\n",
       "      <td>0.0</td>\n",
       "      <td>0.0</td>\n",
       "      <td>1.0</td>\n",
       "    </tr>\n",
       "    <tr>\n",
       "      <td>...</td>\n",
       "      <td>...</td>\n",
       "      <td>...</td>\n",
       "      <td>...</td>\n",
       "      <td>...</td>\n",
       "      <td>...</td>\n",
       "      <td>...</td>\n",
       "      <td>...</td>\n",
       "      <td>...</td>\n",
       "      <td>...</td>\n",
       "      <td>...</td>\n",
       "      <td>...</td>\n",
       "      <td>...</td>\n",
       "      <td>...</td>\n",
       "      <td>...</td>\n",
       "      <td>...</td>\n",
       "      <td>...</td>\n",
       "      <td>...</td>\n",
       "      <td>...</td>\n",
       "      <td>...</td>\n",
       "      <td>...</td>\n",
       "      <td>...</td>\n",
       "    </tr>\n",
       "    <tr>\n",
       "      <td>87015</td>\n",
       "      <td>0.0</td>\n",
       "      <td>14500.0</td>\n",
       "      <td>ID124813N30</td>\n",
       "      <td>1000000.0</td>\n",
       "      <td>5.0</td>\n",
       "      <td>71901</td>\n",
       "      <td>3</td>\n",
       "      <td>9</td>\n",
       "      <td>46</td>\n",
       "      <td>1</td>\n",
       "      <td>...</td>\n",
       "      <td>0.0</td>\n",
       "      <td>0.0</td>\n",
       "      <td>0.0</td>\n",
       "      <td>0.0</td>\n",
       "      <td>1.0</td>\n",
       "      <td>1.0</td>\n",
       "      <td>0.0</td>\n",
       "      <td>1.0</td>\n",
       "      <td>0.0</td>\n",
       "      <td>0.0</td>\n",
       "    </tr>\n",
       "    <tr>\n",
       "      <td>87016</td>\n",
       "      <td>0.0</td>\n",
       "      <td>0.0</td>\n",
       "      <td>ID124814O40</td>\n",
       "      <td>0.0</td>\n",
       "      <td>0.0</td>\n",
       "      <td>16000</td>\n",
       "      <td>5</td>\n",
       "      <td>1</td>\n",
       "      <td>25</td>\n",
       "      <td>0</td>\n",
       "      <td>...</td>\n",
       "      <td>0.0</td>\n",
       "      <td>0.0</td>\n",
       "      <td>0.0</td>\n",
       "      <td>0.0</td>\n",
       "      <td>1.0</td>\n",
       "      <td>0.0</td>\n",
       "      <td>1.0</td>\n",
       "      <td>1.0</td>\n",
       "      <td>0.0</td>\n",
       "      <td>0.0</td>\n",
       "    </tr>\n",
       "    <tr>\n",
       "      <td>87017</td>\n",
       "      <td>0.0</td>\n",
       "      <td>0.0</td>\n",
       "      <td>ID124816Q10</td>\n",
       "      <td>0.0</td>\n",
       "      <td>0.0</td>\n",
       "      <td>118000</td>\n",
       "      <td>3</td>\n",
       "      <td>8</td>\n",
       "      <td>43</td>\n",
       "      <td>1</td>\n",
       "      <td>...</td>\n",
       "      <td>0.0</td>\n",
       "      <td>0.0</td>\n",
       "      <td>0.0</td>\n",
       "      <td>0.0</td>\n",
       "      <td>1.0</td>\n",
       "      <td>0.0</td>\n",
       "      <td>1.0</td>\n",
       "      <td>1.0</td>\n",
       "      <td>0.0</td>\n",
       "      <td>0.0</td>\n",
       "    </tr>\n",
       "    <tr>\n",
       "      <td>87018</td>\n",
       "      <td>0.0</td>\n",
       "      <td>13660.0</td>\n",
       "      <td>ID124818S30</td>\n",
       "      <td>800000.0</td>\n",
       "      <td>5.0</td>\n",
       "      <td>98930</td>\n",
       "      <td>3</td>\n",
       "      <td>18</td>\n",
       "      <td>38</td>\n",
       "      <td>1</td>\n",
       "      <td>...</td>\n",
       "      <td>0.0</td>\n",
       "      <td>0.0</td>\n",
       "      <td>0.0</td>\n",
       "      <td>0.0</td>\n",
       "      <td>1.0</td>\n",
       "      <td>0.0</td>\n",
       "      <td>1.0</td>\n",
       "      <td>1.0</td>\n",
       "      <td>0.0</td>\n",
       "      <td>0.0</td>\n",
       "    </tr>\n",
       "    <tr>\n",
       "      <td>87019</td>\n",
       "      <td>0.0</td>\n",
       "      <td>0.0</td>\n",
       "      <td>ID124821V10</td>\n",
       "      <td>0.0</td>\n",
       "      <td>0.0</td>\n",
       "      <td>42300</td>\n",
       "      <td>4</td>\n",
       "      <td>12</td>\n",
       "      <td>27</td>\n",
       "      <td>0</td>\n",
       "      <td>...</td>\n",
       "      <td>0.0</td>\n",
       "      <td>0.0</td>\n",
       "      <td>0.0</td>\n",
       "      <td>0.0</td>\n",
       "      <td>1.0</td>\n",
       "      <td>0.0</td>\n",
       "      <td>1.0</td>\n",
       "      <td>1.0</td>\n",
       "      <td>0.0</td>\n",
       "      <td>0.0</td>\n",
       "    </tr>\n",
       "  </tbody>\n",
       "</table>\n",
       "<p>87020 rows × 51 columns</p>\n",
       "</div>"
      ],
      "text/plain": [
       "       Disbursed  Existing_EMI           ID  Loan_Amount_Applied  \\\n",
       "0            0.0           0.0  ID000002C20             300000.0   \n",
       "1            0.0           0.0  ID000004E40             200000.0   \n",
       "2            0.0           0.0  ID000007H20             600000.0   \n",
       "3            0.0           0.0  ID000008I30            1000000.0   \n",
       "4            0.0       25000.0  ID000009J40             500000.0   \n",
       "...          ...           ...          ...                  ...   \n",
       "87015        0.0       14500.0  ID124813N30            1000000.0   \n",
       "87016        0.0           0.0  ID124814O40                  0.0   \n",
       "87017        0.0           0.0  ID124816Q10                  0.0   \n",
       "87018        0.0       13660.0  ID124818S30             800000.0   \n",
       "87019        0.0           0.0  ID124821V10                  0.0   \n",
       "\n",
       "       Loan_Tenure_Applied  Monthly_Income  Var4  Var5  Age  \\\n",
       "0                      5.0           20000     1     0   37   \n",
       "1                      2.0           35000     3    13   30   \n",
       "2                      4.0           22500     1     0   34   \n",
       "3                      5.0           35000     3    10   28   \n",
       "4                      2.0          100000     3    17   31   \n",
       "...                    ...             ...   ...   ...  ...   \n",
       "87015                  5.0           71901     3     9   46   \n",
       "87016                  0.0           16000     5     1   25   \n",
       "87017                  0.0          118000     3     8   43   \n",
       "87018                  5.0           98930     3    18   38   \n",
       "87019                  0.0           42300     4    12   27   \n",
       "\n",
       "       EMI_Loan_Submitted_Missing  ...  Var2_2  Var2_3  Var2_4  Var2_5  \\\n",
       "0                               1  ...     0.0     0.0     0.0     0.0   \n",
       "1                               0  ...     0.0     0.0     0.0     0.0   \n",
       "2                               1  ...     0.0     0.0     0.0     0.0   \n",
       "3                               1  ...     0.0     0.0     0.0     0.0   \n",
       "4                               1  ...     0.0     0.0     0.0     0.0   \n",
       "...                           ...  ...     ...     ...     ...     ...   \n",
       "87015                           1  ...     0.0     0.0     0.0     0.0   \n",
       "87016                           0  ...     0.0     0.0     0.0     0.0   \n",
       "87017                           1  ...     0.0     0.0     0.0     0.0   \n",
       "87018                           1  ...     0.0     0.0     0.0     0.0   \n",
       "87019                           0  ...     0.0     0.0     0.0     0.0   \n",
       "\n",
       "       Var2_6  Mobile_Verified_0  Mobile_Verified_1  Source_0  Source_1  \\\n",
       "0         1.0                1.0                0.0       1.0       0.0   \n",
       "1         1.0                0.0                1.0       1.0       0.0   \n",
       "2         0.0                0.0                1.0       0.0       0.0   \n",
       "3         0.0                0.0                1.0       0.0       0.0   \n",
       "4         0.0                0.0                1.0       0.0       0.0   \n",
       "...       ...                ...                ...       ...       ...   \n",
       "87015     1.0                1.0                0.0       1.0       0.0   \n",
       "87016     1.0                0.0                1.0       1.0       0.0   \n",
       "87017     1.0                0.0                1.0       1.0       0.0   \n",
       "87018     1.0                0.0                1.0       1.0       0.0   \n",
       "87019     1.0                0.0                1.0       1.0       0.0   \n",
       "\n",
       "       Source_2  \n",
       "0           0.0  \n",
       "1           0.0  \n",
       "2           1.0  \n",
       "3           1.0  \n",
       "4           1.0  \n",
       "...         ...  \n",
       "87015       0.0  \n",
       "87016       0.0  \n",
       "87017       0.0  \n",
       "87018       0.0  \n",
       "87019       0.0  \n",
       "\n",
       "[87020 rows x 51 columns]"
      ]
     },
     "execution_count": 9,
     "metadata": {},
     "output_type": "execute_result"
    }
   ],
   "source": [
    "data"
   ]
  },
  {
   "cell_type": "code",
   "execution_count": 10,
   "metadata": {},
   "outputs": [],
   "source": [
    "target = 'Disbursed'\n",
    "train_label = data[target]"
   ]
  },
  {
   "cell_type": "code",
   "execution_count": 13,
   "metadata": {},
   "outputs": [
    {
     "data": {
      "text/plain": [
       "0.0    85747\n",
       "1.0     1273\n",
       "Name: Disbursed, dtype: int64"
      ]
     },
     "execution_count": 13,
     "metadata": {},
     "output_type": "execute_result"
    }
   ],
   "source": [
    "train_label.value_counts()"
   ]
  },
  {
   "cell_type": "code",
   "execution_count": 14,
   "metadata": {},
   "outputs": [],
   "source": [
    "IDcol = 'ID'\n",
    "feature_col = [x for x in data.columns if x not in [target, IDcol]]\n",
    "train_feature = data[feature_col]"
   ]
  },
  {
   "cell_type": "markdown",
   "metadata": {},
   "source": [
    "### 默认参数"
   ]
  },
  {
   "cell_type": "code",
   "execution_count": 22,
   "metadata": {},
   "outputs": [
    {
     "data": {
      "text/plain": [
       "GradientBoostingClassifier(criterion='friedman_mse', init=None,\n",
       "                           learning_rate=0.1, loss='deviance', max_depth=3,\n",
       "                           max_features=None, max_leaf_nodes=None,\n",
       "                           min_impurity_decrease=0.0, min_impurity_split=None,\n",
       "                           min_samples_leaf=1, min_samples_split=2,\n",
       "                           min_weight_fraction_leaf=0.0, n_estimators=100,\n",
       "                           n_iter_no_change=None, presort='auto',\n",
       "                           random_state=10, subsample=1.0, tol=0.0001,\n",
       "                           validation_fraction=0.1, verbose=0,\n",
       "                           warm_start=False)"
      ]
     },
     "execution_count": 22,
     "metadata": {},
     "output_type": "execute_result"
    }
   ],
   "source": [
    "gbdt_0 = GradientBoostingClassifier(random_state=10)\n",
    "gbdt_0.fit(train_feature, train_label)"
   ]
  },
  {
   "cell_type": "code",
   "execution_count": 23,
   "metadata": {},
   "outputs": [],
   "source": [
    "pre_0 = gbdt_0.predict(train_feature)\n",
    "pre_prob = gbdt_0.predict_proba(train_feature)[:,1]"
   ]
  },
  {
   "cell_type": "code",
   "execution_count": 30,
   "metadata": {},
   "outputs": [],
   "source": [
    "from sklearn import model_selection, metrics\n",
    "from sklearn.model_selection import GridSearchCV\n",
    "\n",
    "import matplotlib.pylab as plt\n",
    "%matplotlib inline"
   ]
  },
  {
   "cell_type": "code",
   "execution_count": 33,
   "metadata": {},
   "outputs": [
    {
     "name": "stdout",
     "output_type": "stream",
     "text": [
      "Accaurcy: 0.9856\n"
     ]
    }
   ],
   "source": [
    "print(\"Accaurcy: %.4g\" %metrics.accuracy_score(train_label, pre_0))"
   ]
  },
  {
   "cell_type": "code",
   "execution_count": 37,
   "metadata": {},
   "outputs": [
    {
     "name": "stdout",
     "output_type": "stream",
     "text": [
      "AUC Score: 0.862264\n"
     ]
    }
   ],
   "source": [
    "print(\"AUC Score: %f\" %metrics.roc_auc_score(train_label, pre_prob))"
   ]
  },
  {
   "cell_type": "markdown",
   "metadata": {},
   "source": [
    "#### 1、对迭代次数进行网格搜索\n",
    "首先我们从步长(learning rate)和迭代次数(n_estimators)入手。一般来说,开始选择一个较小的步长来网格搜索最好的迭代次数。这里，我们将步长初始值设置为0.1。对于迭代次数进行网格搜索如下"
   ]
  },
  {
   "cell_type": "markdown",
   "metadata": {},
   "source": [
    "##### n_estimators"
   ]
  },
  {
   "cell_type": "code",
   "execution_count": 43,
   "metadata": {},
   "outputs": [
    {
     "data": {
      "text/plain": [
       "GridSearchCV(cv=5, error_score='raise-deprecating',\n",
       "             estimator=GradientBoostingClassifier(criterion='friedman_mse',\n",
       "                                                  init=None, learning_rate=0.1,\n",
       "                                                  loss='deviance', max_depth=8,\n",
       "                                                  max_features='sqrt',\n",
       "                                                  max_leaf_nodes=None,\n",
       "                                                  min_impurity_decrease=0.0,\n",
       "                                                  min_impurity_split=None,\n",
       "                                                  min_samples_leaf=20,\n",
       "                                                  min_samples_split=300,\n",
       "                                                  min_weight_fraction_leaf=0.0,\n",
       "                                                  n_estimators=100,\n",
       "                                                  n_iter_no_change=None,\n",
       "                                                  presort='auto',\n",
       "                                                  random_state=10,\n",
       "                                                  subsample=0.8, tol=0.0001,\n",
       "                                                  validation_fraction=0.1,\n",
       "                                                  verbose=0, warm_start=False),\n",
       "             iid=False, n_jobs=None,\n",
       "             param_grid={'n_estimators': range(20, 101, 10)},\n",
       "             pre_dispatch='2*n_jobs', refit=True, return_train_score=False,\n",
       "             scoring='roc_auc', verbose=0)"
      ]
     },
     "execution_count": 43,
     "metadata": {},
     "output_type": "execute_result"
    }
   ],
   "source": [
    "param_test1 = {'n_estimators':range(20,101,10)}\n",
    "gsearch1 = GridSearchCV(\n",
    "    estimator = GradientBoostingClassifier(\n",
    "        learning_rate = 0.1\n",
    "        , min_samples_split = 300\n",
    "        , min_samples_leaf = 20\n",
    "        , max_depth = 8\n",
    "        , max_features = 'sqrt'\n",
    "        , subsample = 0.8\n",
    "        , random_state = 10\n",
    "    )\n",
    "    , param_grid = param_test1\n",
    "    , scoring = 'roc_auc'\n",
    "    , iid = False\n",
    "    , cv = 5\n",
    ")\n",
    "gsearch1.fit(train_feature, train_label)"
   ]
  },
  {
   "cell_type": "code",
   "execution_count": 45,
   "metadata": {},
   "outputs": [
    {
     "data": {
      "text/plain": [
       "{'mean_fit_time': array([1.92715359, 2.64256039, 3.37707567, 4.03654528, 4.66962829,\n",
       "        5.22545018, 5.82572961, 6.56250124, 7.35079737]),\n",
       " 'std_fit_time': array([0.0662159 , 0.04726978, 0.07169142, 0.1206033 , 0.0710805 ,\n",
       "        0.0753033 , 0.07085114, 0.19467505, 0.16936587]),\n",
       " 'mean_score_time': array([0.0267415 , 0.0312242 , 0.03565388, 0.04057517, 0.04535813,\n",
       "        0.04769998, 0.05198579, 0.05865922, 0.0617569 ]),\n",
       " 'std_score_time': array([0.00086475, 0.00101114, 0.00215531, 0.00193362, 0.00207893,\n",
       "        0.00253177, 0.00221425, 0.00439735, 0.00340013]),\n",
       " 'param_n_estimators': masked_array(data=[20, 30, 40, 50, 60, 70, 80, 90, 100],\n",
       "              mask=[False, False, False, False, False, False, False, False,\n",
       "                    False],\n",
       "        fill_value='?',\n",
       "             dtype=object),\n",
       " 'params': [{'n_estimators': 20},\n",
       "  {'n_estimators': 30},\n",
       "  {'n_estimators': 40},\n",
       "  {'n_estimators': 50},\n",
       "  {'n_estimators': 60},\n",
       "  {'n_estimators': 70},\n",
       "  {'n_estimators': 80},\n",
       "  {'n_estimators': 90},\n",
       "  {'n_estimators': 100}],\n",
       " 'split0_test_score': array([0.82300383, 0.82320563, 0.82287041, 0.82589996, 0.82571509,\n",
       "        0.82624718, 0.82428217, 0.82305071, 0.8204747 ]),\n",
       " 'split1_test_score': array([0.82853084, 0.83178986, 0.83272578, 0.83398594, 0.83319122,\n",
       "        0.83497845, 0.83280867, 0.83160167, 0.82948334]),\n",
       " 'split2_test_score': array([0.83118652, 0.83664182, 0.84069762, 0.84109906, 0.84424954,\n",
       "        0.84340732, 0.84436159, 0.84400508, 0.84312571]),\n",
       " 'split3_test_score': array([0.84577497, 0.84783656, 0.84799325, 0.84742011, 0.84738097,\n",
       "        0.8467851 , 0.84671669, 0.84569691, 0.8454368 ]),\n",
       " 'split4_test_score': array([0.82722667, 0.82946447, 0.83126757, 0.83229836, 0.83290984,\n",
       "        0.83415219, 0.83286737, 0.83333479, 0.83226496]),\n",
       " 'mean_test_score': array([0.83114457, 0.83378767, 0.83511092, 0.83614069, 0.83668933,\n",
       "        0.83711405, 0.8362073 , 0.83553783, 0.8341571 ]),\n",
       " 'std_test_score': array([0.00777822, 0.00824838, 0.0085727 , 0.00743088, 0.00798027,\n",
       "        0.00727402, 0.00826867, 0.00838065, 0.00916842]),\n",
       " 'rank_test_score': array([9, 8, 6, 4, 2, 1, 3, 5, 7], dtype=int32)}"
      ]
     },
     "execution_count": 45,
     "metadata": {},
     "output_type": "execute_result"
    }
   ],
   "source": [
    "gsearch1.cv_results_"
   ]
  },
  {
   "cell_type": "code",
   "execution_count": 46,
   "metadata": {},
   "outputs": [
    {
     "data": {
      "text/plain": [
       "{'n_estimators': 70}"
      ]
     },
     "execution_count": 46,
     "metadata": {},
     "output_type": "execute_result"
    }
   ],
   "source": [
    "gsearch1.best_params_"
   ]
  },
  {
   "cell_type": "code",
   "execution_count": 47,
   "metadata": {},
   "outputs": [
    {
     "data": {
      "text/plain": [
       "0.8371140502636909"
      ]
     },
     "execution_count": 47,
     "metadata": {},
     "output_type": "execute_result"
    }
   ],
   "source": [
    "gsearch1.best_score_"
   ]
  },
  {
   "cell_type": "markdown",
   "metadata": {},
   "source": [
    "#### 2、对决策树内部参数进行网格搜索"
   ]
  },
  {
   "cell_type": "markdown",
   "metadata": {},
   "source": [
    "##### max_depth、min_samples_split"
   ]
  },
  {
   "cell_type": "code",
   "execution_count": 48,
   "metadata": {},
   "outputs": [
    {
     "data": {
      "text/plain": [
       "GridSearchCV(cv=5, error_score='raise-deprecating',\n",
       "             estimator=GradientBoostingClassifier(criterion='friedman_mse',\n",
       "                                                  init=None, learning_rate=0.1,\n",
       "                                                  loss='deviance', max_depth=3,\n",
       "                                                  max_features='sqrt',\n",
       "                                                  max_leaf_nodes=None,\n",
       "                                                  min_impurity_decrease=0.0,\n",
       "                                                  min_impurity_split=None,\n",
       "                                                  min_samples_leaf=20,\n",
       "                                                  min_samples_split=2,\n",
       "                                                  min_weight_fraction_leaf=0.0,\n",
       "                                                  n_estimators=70,\n",
       "                                                  n_iter_no_change=None,\n",
       "                                                  presort='auto',\n",
       "                                                  random_state=10,\n",
       "                                                  subsample=0.8, tol=0.0001,\n",
       "                                                  validation_fraction=0.1,\n",
       "                                                  verbose=0, warm_start=False),\n",
       "             iid=False, n_jobs=None,\n",
       "             param_grid={'max_depth': range(3, 14, 2),\n",
       "                         'min_samples_split': range(100, 801, 200)},\n",
       "             pre_dispatch='2*n_jobs', refit=True, return_train_score=False,\n",
       "             scoring='roc_auc', verbose=0)"
      ]
     },
     "execution_count": 48,
     "metadata": {},
     "output_type": "execute_result"
    }
   ],
   "source": [
    "param_test2 = {'max_depth':range(3,14,2), 'min_samples_split':range(100,801,200)}\n",
    "gsearch2 = GridSearchCV(\n",
    "    estimator = GradientBoostingClassifier(\n",
    "        learning_rate = 0.1\n",
    "        , n_estimators = 70\n",
    "        , min_samples_leaf = 20\n",
    "        , max_features = 'sqrt'\n",
    "        , subsample = 0.8\n",
    "        , random_state = 10\n",
    "    )\n",
    "    , param_grid = param_test2\n",
    "    , scoring = 'roc_auc'\n",
    "    , iid = False\n",
    "    , cv = 5\n",
    ")\n",
    "gsearch2.fit(train_feature, train_label)"
   ]
  },
  {
   "cell_type": "code",
   "execution_count": 51,
   "metadata": {},
   "outputs": [
    {
     "data": {
      "text/plain": [
       "{'mean_fit_time': array([ 1.9606616 ,  1.98076715,  1.91867046,  1.88400292,  3.20682516,\n",
       "         3.00555868,  3.00125575,  2.82209935,  4.81687179,  4.34802389,\n",
       "         4.24468956,  4.00643873,  7.08417878,  5.9742547 ,  5.48670163,\n",
       "         5.20206695,  9.60571437,  7.59467516,  6.84400673,  6.37569771,\n",
       "        12.23614702,  9.40089245,  8.30377383,  7.75830951]),\n",
       " 'std_fit_time': array([0.04403883, 0.03569067, 0.03315101, 0.02680777, 0.08043004,\n",
       "        0.03215486, 0.08526881, 0.03001332, 0.075378  , 0.06271317,\n",
       "        0.07524248, 0.03514032, 0.08080019, 0.06732483, 0.04501635,\n",
       "        0.07327228, 0.11387817, 0.18288223, 0.07955533, 0.09825675,\n",
       "        0.30893199, 0.24986221, 0.15289091, 0.31119739]),\n",
       " 'mean_score_time': array([0.02937188, 0.03132019, 0.02904096, 0.02992325, 0.03855934,\n",
       "        0.0368094 , 0.03660936, 0.0349494 , 0.04426403, 0.04376459,\n",
       "        0.04401369, 0.0431478 , 0.05687609, 0.05117836, 0.05055671,\n",
       "        0.05035143, 0.06156621, 0.06012368, 0.05774088, 0.05660977,\n",
       "        0.06913247, 0.06764793, 0.06663804, 0.06511188]),\n",
       " 'std_score_time': array([0.00134476, 0.0013764 , 0.001732  , 0.00163617, 0.00156243,\n",
       "        0.00184178, 0.00250726, 0.00151287, 0.0019174 , 0.00142408,\n",
       "        0.00158736, 0.00168005, 0.00920789, 0.00233459, 0.00235813,\n",
       "        0.00300101, 0.00348086, 0.00357679, 0.00244687, 0.00283968,\n",
       "        0.00370989, 0.00122514, 0.00515171, 0.00313486]),\n",
       " 'param_max_depth': masked_array(data=[3, 3, 3, 3, 5, 5, 5, 5, 7, 7, 7, 7, 9, 9, 9, 9, 11, 11,\n",
       "                    11, 11, 13, 13, 13, 13],\n",
       "              mask=[False, False, False, False, False, False, False, False,\n",
       "                    False, False, False, False, False, False, False, False,\n",
       "                    False, False, False, False, False, False, False, False],\n",
       "        fill_value='?',\n",
       "             dtype=object),\n",
       " 'param_min_samples_split': masked_array(data=[100, 300, 500, 700, 100, 300, 500, 700, 100, 300, 500,\n",
       "                    700, 100, 300, 500, 700, 100, 300, 500, 700, 100, 300,\n",
       "                    500, 700],\n",
       "              mask=[False, False, False, False, False, False, False, False,\n",
       "                    False, False, False, False, False, False, False, False,\n",
       "                    False, False, False, False, False, False, False, False],\n",
       "        fill_value='?',\n",
       "             dtype=object),\n",
       " 'params': [{'max_depth': 3, 'min_samples_split': 100},\n",
       "  {'max_depth': 3, 'min_samples_split': 300},\n",
       "  {'max_depth': 3, 'min_samples_split': 500},\n",
       "  {'max_depth': 3, 'min_samples_split': 700},\n",
       "  {'max_depth': 5, 'min_samples_split': 100},\n",
       "  {'max_depth': 5, 'min_samples_split': 300},\n",
       "  {'max_depth': 5, 'min_samples_split': 500},\n",
       "  {'max_depth': 5, 'min_samples_split': 700},\n",
       "  {'max_depth': 7, 'min_samples_split': 100},\n",
       "  {'max_depth': 7, 'min_samples_split': 300},\n",
       "  {'max_depth': 7, 'min_samples_split': 500},\n",
       "  {'max_depth': 7, 'min_samples_split': 700},\n",
       "  {'max_depth': 9, 'min_samples_split': 100},\n",
       "  {'max_depth': 9, 'min_samples_split': 300},\n",
       "  {'max_depth': 9, 'min_samples_split': 500},\n",
       "  {'max_depth': 9, 'min_samples_split': 700},\n",
       "  {'max_depth': 11, 'min_samples_split': 100},\n",
       "  {'max_depth': 11, 'min_samples_split': 300},\n",
       "  {'max_depth': 11, 'min_samples_split': 500},\n",
       "  {'max_depth': 11, 'min_samples_split': 700},\n",
       "  {'max_depth': 13, 'min_samples_split': 100},\n",
       "  {'max_depth': 13, 'min_samples_split': 300},\n",
       "  {'max_depth': 13, 'min_samples_split': 500},\n",
       "  {'max_depth': 13, 'min_samples_split': 700}],\n",
       " 'split0_test_score': array([0.81485851, 0.81348265, 0.81552164, 0.81737964, 0.82363505,\n",
       "        0.82437832, 0.82101401, 0.82168159, 0.82406997, 0.8325967 ,\n",
       "        0.8288927 , 0.82181455, 0.8105951 , 0.81825507, 0.82009924,\n",
       "        0.81808072, 0.80869388, 0.81287944, 0.82850672, 0.82004562,\n",
       "        0.80474624, 0.8144579 , 0.81318619, 0.80821769]),\n",
       " 'split1_test_score': array([0.81305791, 0.81258698, 0.81164866, 0.81423872, 0.82308695,\n",
       "        0.82175419, 0.82124873, 0.81871491, 0.82528817, 0.83326485,\n",
       "        0.83407477, 0.82977671, 0.82750494, 0.83268176, 0.82704327,\n",
       "        0.82962579, 0.81527217, 0.83063237, 0.82820385, 0.83264483,\n",
       "        0.81244989, 0.82774058, 0.83349843, 0.82748642]),\n",
       " 'split2_test_score': array([0.83563587, 0.83610855, 0.8356401 , 0.83547249, 0.84498382,\n",
       "        0.84194174, 0.84629059, 0.84339349, 0.84904019, 0.84919615,\n",
       "        0.84748187, 0.85102521, 0.84208363, 0.84896861, 0.84633689,\n",
       "        0.85276898, 0.83436592, 0.84743934, 0.84271672, 0.84832981,\n",
       "        0.83400598, 0.83753777, 0.83516229, 0.84791807]),\n",
       " 'split3_test_score': array([0.84600248, 0.8482405 , 0.84857764, 0.84733666, 0.84952441,\n",
       "        0.84696268, 0.85041459, 0.85066357, 0.85236599, 0.84933685,\n",
       "        0.85627235, 0.8478136 , 0.84237482, 0.84940572, 0.85263747,\n",
       "        0.85052215, 0.83835241, 0.84079786, 0.84598468, 0.84240226,\n",
       "        0.8224384 , 0.83122383, 0.84226382, 0.84656953]),\n",
       " 'split4_test_score': array([0.83605217, 0.83580756, 0.83572365, 0.83810229, 0.83518804,\n",
       "        0.83822224, 0.83988495, 0.83510367, 0.83602324, 0.83435227,\n",
       "        0.83715666, 0.83566155, 0.83309545, 0.83512376, 0.83647918,\n",
       "        0.83566878, 0.81858759, 0.82799817, 0.82419075, 0.83151964,\n",
       "        0.81099986, 0.82403545, 0.82710006, 0.82251691]),\n",
       " 'mean_test_score': array([0.82912139, 0.82924525, 0.82942234, 0.83050596, 0.83528365,\n",
       "        0.83465183, 0.83577057, 0.83391145, 0.83735751, 0.83974936,\n",
       "        0.84077567, 0.83721833, 0.83113079, 0.83688699, 0.83651921,\n",
       "        0.83733328, 0.82305439, 0.83194943, 0.83392055, 0.83498843,\n",
       "        0.81692808, 0.82699911, 0.83024216, 0.83054173]),\n",
       " 'std_test_score': array([0.01293762, 0.01397817, 0.01381612, 0.01266938, 0.01078286,\n",
       "        0.00989284, 0.0124152 , 0.01226758, 0.01171108, 0.00779102,\n",
       "        0.009842  , 0.01093588, 0.01170568, 0.01158124, 0.01196324,\n",
       "        0.01300034, 0.01139052, 0.01182577, 0.00871292, 0.00973416,\n",
       "        0.01025294, 0.007688  , 0.00979908, 0.01503944]),\n",
       " 'rank_test_score': array([21, 20, 19, 17,  9, 11,  8, 13,  3,  2,  1,  5, 15,  6,  7,  4, 23,\n",
       "        14, 12, 10, 24, 22, 18, 16], dtype=int32)}"
      ]
     },
     "execution_count": 51,
     "metadata": {},
     "output_type": "execute_result"
    }
   ],
   "source": [
    "gsearch2.cv_results_"
   ]
  },
  {
   "cell_type": "code",
   "execution_count": 52,
   "metadata": {},
   "outputs": [
    {
     "data": {
      "text/plain": [
       "{'max_depth': 7, 'min_samples_split': 500}"
      ]
     },
     "execution_count": 52,
     "metadata": {},
     "output_type": "execute_result"
    }
   ],
   "source": [
    "gsearch2.best_params_"
   ]
  },
  {
   "cell_type": "code",
   "execution_count": 53,
   "metadata": {},
   "outputs": [
    {
     "data": {
      "text/plain": [
       "0.8407756723923849"
      ]
     },
     "execution_count": 53,
     "metadata": {},
     "output_type": "execute_result"
    }
   ],
   "source": [
    "gsearch2.best_score_"
   ]
  },
  {
   "cell_type": "markdown",
   "metadata": {},
   "source": [
    "##### min_samples_split、min_samples_leaf"
   ]
  },
  {
   "cell_type": "code",
   "execution_count": 54,
   "metadata": {},
   "outputs": [
    {
     "data": {
      "text/plain": [
       "GridSearchCV(cv=5, error_score='raise-deprecating',\n",
       "             estimator=GradientBoostingClassifier(criterion='friedman_mse',\n",
       "                                                  init=None, learning_rate=0.1,\n",
       "                                                  loss='deviance', max_depth=7,\n",
       "                                                  max_features='sqrt',\n",
       "                                                  max_leaf_nodes=None,\n",
       "                                                  min_impurity_decrease=0.0,\n",
       "                                                  min_impurity_split=None,\n",
       "                                                  min_samples_leaf=1,\n",
       "                                                  min_samples_split=2,\n",
       "                                                  min_weight_fraction_leaf=0.0,\n",
       "                                                  n_estimators=60,\n",
       "                                                  n_iter_no_change=None,\n",
       "                                                  presort='auto',\n",
       "                                                  random_state=10,\n",
       "                                                  subsample=0.8, tol=0.0001,\n",
       "                                                  validation_fraction=0.1,\n",
       "                                                  verbose=0, warm_start=False),\n",
       "             iid=False, n_jobs=None,\n",
       "             param_grid={'min_samples_leaf': range(60, 101, 10),\n",
       "                         'min_samples_split': range(800, 1900, 200)},\n",
       "             pre_dispatch='2*n_jobs', refit=True, return_train_score=False,\n",
       "             scoring='roc_auc', verbose=0)"
      ]
     },
     "execution_count": 54,
     "metadata": {},
     "output_type": "execute_result"
    }
   ],
   "source": [
    "param_test3 = {'min_samples_split':range(800,1900,200), 'min_samples_leaf':range(60,101,10)}\n",
    "gsearch3 = GridSearchCV(\n",
    "    estimator = GradientBoostingClassifier(\n",
    "        learning_rate = 0.1\n",
    "        , n_estimators = 60\n",
    "        , max_depth = 7\n",
    "        , max_features = 'sqrt'\n",
    "        , subsample = 0.8\n",
    "        , random_state = 10\n",
    "    )\n",
    "    , param_grid = param_test3\n",
    "    , scoring = 'roc_auc'\n",
    "    , iid = False\n",
    "    , cv = 5\n",
    ")\n",
    "gsearch3.fit(train_feature, train_label)"
   ]
  },
  {
   "cell_type": "code",
   "execution_count": 56,
   "metadata": {},
   "outputs": [
    {
     "data": {
      "text/plain": [
       "{'mean_fit_time': array([3.6136797 , 3.56349874, 3.38349857, 3.36260929, 3.34853096,\n",
       "        3.233002  , 3.47678986, 3.33010006, 3.29263115, 3.17466578,\n",
       "        3.32943439, 3.18062863, 3.60235925, 3.521417  , 3.4663476 ,\n",
       "        3.35977783, 3.22683015, 3.13653383, 3.62920527, 3.63176136,\n",
       "        3.54018869, 3.47565598, 3.38594227, 3.23226523, 3.69081707,\n",
       "        3.57132921, 3.4125185 , 3.23171363, 3.19083114, 3.14731174]),\n",
       " 'std_fit_time': array([0.17666672, 0.0899354 , 0.1257653 , 0.18477189, 0.05674742,\n",
       "        0.09913924, 0.03927875, 0.05214116, 0.0381351 , 0.04976497,\n",
       "        0.1737572 , 0.06691888, 0.122152  , 0.04988689, 0.08395796,\n",
       "        0.1279552 , 0.07698787, 0.07008333, 0.06119059, 0.08580396,\n",
       "        0.03685446, 0.10403667, 0.11780227, 0.10891754, 0.05479102,\n",
       "        0.06761084, 0.10992821, 0.06511857, 0.04766657, 0.15175563]),\n",
       " 'mean_score_time': array([0.04293318, 0.04032698, 0.04113879, 0.04037638, 0.04041753,\n",
       "        0.04019051, 0.03979225, 0.03879657, 0.03900943, 0.03848877,\n",
       "        0.04234371, 0.03856535, 0.04242406, 0.04126539, 0.04182582,\n",
       "        0.0404882 , 0.03910618, 0.03896914, 0.0419847 , 0.04346628,\n",
       "        0.04103856, 0.04186163, 0.04045734, 0.0403223 , 0.04349875,\n",
       "        0.04439769, 0.04041672, 0.03892422, 0.03887558, 0.03868527]),\n",
       " 'std_score_time': array([0.00082473, 0.00359074, 0.00129644, 0.00153735, 0.00247493,\n",
       "        0.00331276, 0.00167013, 0.0009725 , 0.00178478, 0.00161806,\n",
       "        0.00406582, 0.00118946, 0.00114171, 0.00251672, 0.00235808,\n",
       "        0.00246862, 0.00121271, 0.00142172, 0.00390837, 0.00270686,\n",
       "        0.00252148, 0.00282987, 0.00279881, 0.00194903, 0.00241426,\n",
       "        0.00435009, 0.00295505, 0.00167064, 0.00090535, 0.00113014]),\n",
       " 'param_min_samples_leaf': masked_array(data=[60, 60, 60, 60, 60, 60, 70, 70, 70, 70, 70, 70, 80, 80,\n",
       "                    80, 80, 80, 80, 90, 90, 90, 90, 90, 90, 100, 100, 100,\n",
       "                    100, 100, 100],\n",
       "              mask=[False, False, False, False, False, False, False, False,\n",
       "                    False, False, False, False, False, False, False, False,\n",
       "                    False, False, False, False, False, False, False, False,\n",
       "                    False, False, False, False, False, False],\n",
       "        fill_value='?',\n",
       "             dtype=object),\n",
       " 'param_min_samples_split': masked_array(data=[800, 1000, 1200, 1400, 1600, 1800, 800, 1000, 1200,\n",
       "                    1400, 1600, 1800, 800, 1000, 1200, 1400, 1600, 1800,\n",
       "                    800, 1000, 1200, 1400, 1600, 1800, 800, 1000, 1200,\n",
       "                    1400, 1600, 1800],\n",
       "              mask=[False, False, False, False, False, False, False, False,\n",
       "                    False, False, False, False, False, False, False, False,\n",
       "                    False, False, False, False, False, False, False, False,\n",
       "                    False, False, False, False, False, False],\n",
       "        fill_value='?',\n",
       "             dtype=object),\n",
       " 'params': [{'min_samples_leaf': 60, 'min_samples_split': 800},\n",
       "  {'min_samples_leaf': 60, 'min_samples_split': 1000},\n",
       "  {'min_samples_leaf': 60, 'min_samples_split': 1200},\n",
       "  {'min_samples_leaf': 60, 'min_samples_split': 1400},\n",
       "  {'min_samples_leaf': 60, 'min_samples_split': 1600},\n",
       "  {'min_samples_leaf': 60, 'min_samples_split': 1800},\n",
       "  {'min_samples_leaf': 70, 'min_samples_split': 800},\n",
       "  {'min_samples_leaf': 70, 'min_samples_split': 1000},\n",
       "  {'min_samples_leaf': 70, 'min_samples_split': 1200},\n",
       "  {'min_samples_leaf': 70, 'min_samples_split': 1400},\n",
       "  {'min_samples_leaf': 70, 'min_samples_split': 1600},\n",
       "  {'min_samples_leaf': 70, 'min_samples_split': 1800},\n",
       "  {'min_samples_leaf': 80, 'min_samples_split': 800},\n",
       "  {'min_samples_leaf': 80, 'min_samples_split': 1000},\n",
       "  {'min_samples_leaf': 80, 'min_samples_split': 1200},\n",
       "  {'min_samples_leaf': 80, 'min_samples_split': 1400},\n",
       "  {'min_samples_leaf': 80, 'min_samples_split': 1600},\n",
       "  {'min_samples_leaf': 80, 'min_samples_split': 1800},\n",
       "  {'min_samples_leaf': 90, 'min_samples_split': 800},\n",
       "  {'min_samples_leaf': 90, 'min_samples_split': 1000},\n",
       "  {'min_samples_leaf': 90, 'min_samples_split': 1200},\n",
       "  {'min_samples_leaf': 90, 'min_samples_split': 1400},\n",
       "  {'min_samples_leaf': 90, 'min_samples_split': 1600},\n",
       "  {'min_samples_leaf': 90, 'min_samples_split': 1800},\n",
       "  {'min_samples_leaf': 100, 'min_samples_split': 800},\n",
       "  {'min_samples_leaf': 100, 'min_samples_split': 1000},\n",
       "  {'min_samples_leaf': 100, 'min_samples_split': 1200},\n",
       "  {'min_samples_leaf': 100, 'min_samples_split': 1400},\n",
       "  {'min_samples_leaf': 100, 'min_samples_split': 1600},\n",
       "  {'min_samples_leaf': 100, 'min_samples_split': 1800}],\n",
       " 'split0_test_score': array([0.82512754, 0.82535014, 0.8203263 , 0.81924839, 0.8229876 ,\n",
       "        0.82252158, 0.8252597 , 0.82783548, 0.81994363, 0.82052318,\n",
       "        0.82022981, 0.82000057, 0.82501755, 0.82475516, 0.82156783,\n",
       "        0.82062905, 0.82528886, 0.8227619 , 0.82380884, 0.82562579,\n",
       "        0.82124999, 0.82183113, 0.82226765, 0.822848  , 0.82339576,\n",
       "        0.82548254, 0.81856217, 0.82278889, 0.82126885, 0.8213809 ]),\n",
       " 'split1_test_score': array([0.82900326, 0.82989058, 0.83029715, 0.83384771, 0.83183982,\n",
       "        0.83033328, 0.82926359, 0.83212805, 0.82913931, 0.83483794,\n",
       "        0.82977877, 0.82931698, 0.82926508, 0.83024558, 0.8319633 ,\n",
       "        0.83074933, 0.82849448, 0.82898817, 0.82991265, 0.82777294,\n",
       "        0.830355  , 0.8276322 , 0.82581147, 0.82822272, 0.82671114,\n",
       "        0.83335849, 0.8329286 , 0.83288836, 0.82469331, 0.82660881]),\n",
       " 'split2_test_score': array([0.84661736, 0.85058798, 0.84769534, 0.84918288, 0.84562217,\n",
       "        0.84389189, 0.84910456, 0.84884856, 0.84197935, 0.84659187,\n",
       "        0.84803962, 0.84114457, 0.84769077, 0.84625983, 0.84169728,\n",
       "        0.84820289, 0.84335564, 0.84254052, 0.84766939, 0.84525205,\n",
       "        0.8478513 , 0.85134444, 0.84153595, 0.84243979, 0.84774051,\n",
       "        0.84595843, 0.84653939, 0.84656385, 0.84179447, 0.84306316]),\n",
       " 'split3_test_score': array([0.8528574 , 0.8497673 , 0.85478297, 0.85704534, 0.85077227,\n",
       "        0.85308204, 0.84967926, 0.85060732, 0.8542701 , 0.85403788,\n",
       "        0.85186207, 0.85067332, 0.85224581, 0.85142002, 0.84998425,\n",
       "        0.85235038, 0.85121547, 0.85092632, 0.85242109, 0.85489661,\n",
       "        0.85198099, 0.85265009, 0.8521984 , 0.84809438, 0.85265997,\n",
       "        0.85300823, 0.85252647, 0.85803355, 0.84930287, 0.85170975]),\n",
       " 'split4_test_score': array([0.8314363 , 0.83726261, 0.84097096, 0.83516784, 0.83798256,\n",
       "        0.83945645, 0.83581238, 0.84152573, 0.8364483 , 0.83666296,\n",
       "        0.83526954, 0.8378765 , 0.83591259, 0.8363815 , 0.83594966,\n",
       "        0.83652119, 0.83673791, 0.83363473, 0.83310533, 0.83791955,\n",
       "        0.83535885, 0.83807026, 0.83655632, 0.8363357 , 0.83712188,\n",
       "        0.83992375, 0.83816014, 0.83602623, 0.8366128 , 0.83824566]),\n",
       " 'mean_test_score': array([0.83700837, 0.83857172, 0.83881455, 0.83889843, 0.83784088,\n",
       "        0.83785705, 0.8378239 , 0.84018903, 0.83635614, 0.83853076,\n",
       "        0.83703596, 0.83580239, 0.83802636, 0.83781242, 0.83623246,\n",
       "        0.83769057, 0.83701847, 0.83577033, 0.83738346, 0.83829339,\n",
       "        0.83735923, 0.83830563, 0.83567396, 0.83558812, 0.83752585,\n",
       "        0.83954629, 0.83774335, 0.83926017, 0.83473446, 0.83620166]),\n",
       " 'std_test_score': array([0.01076855, 0.01021389, 0.01227087, 0.01311969, 0.00984299,\n",
       "        0.01060718, 0.01002983, 0.00897669, 0.01161027, 0.0113741 ,\n",
       "        0.01165442, 0.01044743, 0.01045037, 0.00986227, 0.0095114 ,\n",
       "        0.01154177, 0.00950826, 0.00995306, 0.01086569, 0.01091217,\n",
       "        0.01128227, 0.01233824, 0.01081847, 0.00917029, 0.01140317,\n",
       "        0.00957664, 0.01172334, 0.01206768, 0.01046669, 0.01098578]),\n",
       " 'rank_test_score': array([22,  6,  5,  4, 12, 11, 13,  1, 23,  7, 20, 26, 10, 14, 24, 16, 21,\n",
       "        27, 18,  9, 19,  8, 28, 29, 17,  2, 15,  3, 30, 25], dtype=int32)}"
      ]
     },
     "execution_count": 56,
     "metadata": {},
     "output_type": "execute_result"
    }
   ],
   "source": [
    "gsearch3.cv_results_"
   ]
  },
  {
   "cell_type": "code",
   "execution_count": 57,
   "metadata": {},
   "outputs": [
    {
     "data": {
      "text/plain": [
       "{'min_samples_leaf': 70, 'min_samples_split': 1000}"
      ]
     },
     "execution_count": 57,
     "metadata": {},
     "output_type": "execute_result"
    }
   ],
   "source": [
    "gsearch3.best_params_"
   ]
  },
  {
   "cell_type": "code",
   "execution_count": 58,
   "metadata": {},
   "outputs": [
    {
     "data": {
      "text/plain": [
       "0.84018902830047"
      ]
     },
     "execution_count": 58,
     "metadata": {},
     "output_type": "execute_result"
    }
   ],
   "source": [
    "gsearch3.best_score_"
   ]
  },
  {
   "cell_type": "code",
   "execution_count": 59,
   "metadata": {},
   "outputs": [
    {
     "data": {
      "text/plain": [
       "GradientBoostingClassifier(criterion='friedman_mse', init=None,\n",
       "                           learning_rate=0.1, loss='deviance', max_depth=7,\n",
       "                           max_features='sqrt', max_leaf_nodes=None,\n",
       "                           min_impurity_decrease=0.0, min_impurity_split=None,\n",
       "                           min_samples_leaf=70, min_samples_split=1000,\n",
       "                           min_weight_fraction_leaf=0.0, n_estimators=70,\n",
       "                           n_iter_no_change=None, presort='auto',\n",
       "                           random_state=10, subsample=0.8, tol=0.0001,\n",
       "                           validation_fraction=0.1, verbose=0,\n",
       "                           warm_start=False)"
      ]
     },
     "execution_count": 59,
     "metadata": {},
     "output_type": "execute_result"
    }
   ],
   "source": [
    "gbdt_1 = GradientBoostingClassifier(\n",
    "    learning_rate = 0.1\n",
    "    , n_estimators = 70\n",
    "    , max_depth = 7\n",
    "    , min_samples_leaf = 70\n",
    "    , min_samples_split = 1000\n",
    "    , max_features = 'sqrt'\n",
    "    , subsample = 0.8\n",
    "    , random_state = 10\n",
    ")\n",
    "gbdt_1.fit(train_feature, train_label)"
   ]
  },
  {
   "cell_type": "code",
   "execution_count": 63,
   "metadata": {},
   "outputs": [],
   "source": [
    "pre_1 = gbdt_0.predict(train_feature)\n",
    "pre_prob_1 = gbdt_1.predict_proba(train_feature)[:,1]"
   ]
  },
  {
   "cell_type": "code",
   "execution_count": 64,
   "metadata": {},
   "outputs": [
    {
     "name": "stdout",
     "output_type": "stream",
     "text": [
      "Accaurcy: 0.9856\n"
     ]
    }
   ],
   "source": [
    "print(\"Accaurcy: %.4g\" %metrics.accuracy_score(train_label, pre_1))"
   ]
  },
  {
   "cell_type": "code",
   "execution_count": 65,
   "metadata": {},
   "outputs": [
    {
     "name": "stdout",
     "output_type": "stream",
     "text": [
      "AUC Score: 0.884777\n"
     ]
    }
   ],
   "source": [
    "print(\"AUC Score: %f\" %metrics.roc_auc_score(train_label, pre_prob_1))"
   ]
  },
  {
   "cell_type": "markdown",
   "metadata": {},
   "source": [
    "##### max_features"
   ]
  },
  {
   "cell_type": "code",
   "execution_count": 66,
   "metadata": {},
   "outputs": [
    {
     "data": {
      "text/plain": [
       "GridSearchCV(cv=5, error_score='raise-deprecating',\n",
       "             estimator=GradientBoostingClassifier(criterion='friedman_mse',\n",
       "                                                  init=None, learning_rate=0.1,\n",
       "                                                  loss='deviance', max_depth=7,\n",
       "                                                  max_features=None,\n",
       "                                                  max_leaf_nodes=None,\n",
       "                                                  min_impurity_decrease=0.0,\n",
       "                                                  min_impurity_split=None,\n",
       "                                                  min_samples_leaf=70,\n",
       "                                                  min_samples_split=1000,\n",
       "                                                  min_weight_fraction_leaf=0.0,\n",
       "                                                  n_estimators=70,\n",
       "                                                  n_iter_no_change=None,\n",
       "                                                  presort='auto',\n",
       "                                                  random_state=10,\n",
       "                                                  subsample=0.8, tol=0.0001,\n",
       "                                                  validation_fraction=0.1,\n",
       "                                                  verbose=0, warm_start=False),\n",
       "             iid=False, n_jobs=None,\n",
       "             param_grid={'max_features': range(7, 20, 2)},\n",
       "             pre_dispatch='2*n_jobs', refit=True, return_train_score=False,\n",
       "             scoring='roc_auc', verbose=0)"
      ]
     },
     "execution_count": 66,
     "metadata": {},
     "output_type": "execute_result"
    }
   ],
   "source": [
    "param_test4 = {'max_features':range(7,20,2)}\n",
    "gsearch4 = GridSearchCV(\n",
    "    estimator = GradientBoostingClassifier(\n",
    "        learning_rate = 0.1\n",
    "        , n_estimators = 70\n",
    "        , max_depth = 7\n",
    "        , min_samples_leaf = 70\n",
    "        , min_samples_split = 1000\n",
    "        , subsample = 0.8\n",
    "        , random_state = 10\n",
    "    ), \n",
    "    param_grid = param_test4\n",
    "    , scoring = 'roc_auc'\n",
    "    , iid = False\n",
    "    , cv = 5\n",
    ")\n",
    "gsearch4.fit(train_feature, train_label)"
   ]
  },
  {
   "cell_type": "code",
   "execution_count": 67,
   "metadata": {},
   "outputs": [
    {
     "data": {
      "text/plain": [
       "{'mean_fit_time': array([4.08061996, 4.63288827, 5.05220623, 5.68218942, 6.16083579,\n",
       "        7.06394553, 7.65083318]),\n",
       " 'std_fit_time': array([0.09017312, 0.0986523 , 0.0454801 , 0.10029491, 0.08689917,\n",
       "        0.17256974, 0.23833731]),\n",
       " 'mean_score_time': array([0.04510865, 0.0441052 , 0.04260511, 0.04222341, 0.04131503,\n",
       "        0.04254513, 0.0400598 ]),\n",
       " 'std_score_time': array([0.00222515, 0.00294608, 0.00190274, 0.00191421, 0.00110569,\n",
       "        0.00217815, 0.00158179]),\n",
       " 'param_max_features': masked_array(data=[7, 9, 11, 13, 15, 17, 19],\n",
       "              mask=[False, False, False, False, False, False, False],\n",
       "        fill_value='?',\n",
       "             dtype=object),\n",
       " 'params': [{'max_features': 7},\n",
       "  {'max_features': 9},\n",
       "  {'max_features': 11},\n",
       "  {'max_features': 13},\n",
       "  {'max_features': 15},\n",
       "  {'max_features': 17},\n",
       "  {'max_features': 19}],\n",
       " 'split0_test_score': array([0.82863088, 0.82281758, 0.82302578, 0.82867799, 0.82706751,\n",
       "        0.81927068, 0.82621026]),\n",
       " 'split1_test_score': array([0.83384931, 0.82602584, 0.82663523, 0.83122746, 0.82640919,\n",
       "        0.83134019, 0.83104762]),\n",
       " 'split2_test_score': array([0.8477867 , 0.84652052, 0.84989201, 0.84904225, 0.85154739,\n",
       "        0.84592699, 0.84394288]),\n",
       " 'split3_test_score': array([0.850514  , 0.85272803, 0.8496664 , 0.85001111, 0.85184187,\n",
       "        0.84648114, 0.85038188]),\n",
       " 'split4_test_score': array([0.84051583, 0.83221663, 0.8384695 , 0.83279287, 0.83706977,\n",
       "        0.83197524, 0.83406277]),\n",
       " 'mean_test_score': array([0.84025934, 0.83606172, 0.83753778, 0.83835034, 0.83878715,\n",
       "        0.83499885, 0.83712908]),\n",
       " 'std_test_score': array([0.00822429, 0.01164528, 0.01122553, 0.00922459, 0.01119609,\n",
       "        0.01020951, 0.00880536]),\n",
       " 'rank_test_score': array([1, 6, 4, 3, 2, 7, 5], dtype=int32)}"
      ]
     },
     "execution_count": 67,
     "metadata": {},
     "output_type": "execute_result"
    }
   ],
   "source": [
    "gsearch4.cv_results_"
   ]
  },
  {
   "cell_type": "code",
   "execution_count": 68,
   "metadata": {},
   "outputs": [
    {
     "data": {
      "text/plain": [
       "{'max_features': 7}"
      ]
     },
     "execution_count": 68,
     "metadata": {},
     "output_type": "execute_result"
    }
   ],
   "source": [
    "gsearch4.best_params_"
   ]
  },
  {
   "cell_type": "code",
   "execution_count": 69,
   "metadata": {},
   "outputs": [
    {
     "data": {
      "text/plain": [
       "0.840259343448756"
      ]
     },
     "execution_count": 69,
     "metadata": {},
     "output_type": "execute_result"
    }
   ],
   "source": [
    "gsearch4.best_score_"
   ]
  },
  {
   "cell_type": "code",
   "execution_count": 70,
   "metadata": {},
   "outputs": [
    {
     "data": {
      "text/plain": [
       "GridSearchCV(cv=5, error_score='raise-deprecating',\n",
       "             estimator=GradientBoostingClassifier(criterion='friedman_mse',\n",
       "                                                  init=None, learning_rate=0.1,\n",
       "                                                  loss='deviance', max_depth=7,\n",
       "                                                  max_features=7,\n",
       "                                                  max_leaf_nodes=None,\n",
       "                                                  min_impurity_decrease=0.0,\n",
       "                                                  min_impurity_split=None,\n",
       "                                                  min_samples_leaf=70,\n",
       "                                                  min_samples_split=1000,\n",
       "                                                  min_weight_fraction_leaf=0.0,\n",
       "                                                  n_estimators=70,\n",
       "                                                  n_iter_no_change=None,\n",
       "                                                  presort='auto',\n",
       "                                                  random_state=10,\n",
       "                                                  subsample=1.0, tol=0.0001,\n",
       "                                                  validation_fraction=0.1,\n",
       "                                                  verbose=0, warm_start=False),\n",
       "             iid=False, n_jobs=None,\n",
       "             param_grid={'subsample': [0.6, 0.7, 0.75, 0.8, 0.85, 0.9]},\n",
       "             pre_dispatch='2*n_jobs', refit=True, return_train_score=False,\n",
       "             scoring='roc_auc', verbose=0)"
      ]
     },
     "execution_count": 70,
     "metadata": {},
     "output_type": "execute_result"
    }
   ],
   "source": [
    "param_test5 = {'subsample':[0.6,0.7,0.75,0.8,0.85,0.9]}\n",
    "gsearch5 = GridSearchCV(\n",
    "    estimator = GradientBoostingClassifier(\n",
    "        learning_rate = 0.1\n",
    "        , n_estimators = 70\n",
    "        , max_depth = 7\n",
    "        , min_samples_leaf = 70\n",
    "        , min_samples_split = 1000\n",
    "        , max_features = 7\n",
    "        , random_state = 10\n",
    "    ), \n",
    "    param_grid = param_test5\n",
    "    , scoring = 'roc_auc'\n",
    "    , iid = False\n",
    "    , cv = 5\n",
    ")\n",
    "gsearch5.fit(train_feature, train_label)"
   ]
  },
  {
   "cell_type": "code",
   "execution_count": 71,
   "metadata": {},
   "outputs": [
    {
     "data": {
      "text/plain": [
       "{'mean_fit_time': array([4.11828041, 4.3651608 , 4.40829864, 4.33629217, 4.32963405,\n",
       "        4.63706155]),\n",
       " 'std_fit_time': array([0.25395423, 0.17997033, 0.19645065, 0.13064765, 0.16989518,\n",
       "        0.22603813]),\n",
       " 'mean_score_time': array([0.05362363, 0.05125823, 0.05497155, 0.05680208, 0.04883304,\n",
       "        0.06357045]),\n",
       " 'std_score_time': array([0.00515803, 0.00497287, 0.00360297, 0.00818797, 0.004013  ,\n",
       "        0.0256789 ]),\n",
       " 'param_subsample': masked_array(data=[0.6, 0.7, 0.75, 0.8, 0.85, 0.9],\n",
       "              mask=[False, False, False, False, False, False],\n",
       "        fill_value='?',\n",
       "             dtype=object),\n",
       " 'params': [{'subsample': 0.6},\n",
       "  {'subsample': 0.7},\n",
       "  {'subsample': 0.75},\n",
       "  {'subsample': 0.8},\n",
       "  {'subsample': 0.85},\n",
       "  {'subsample': 0.9}],\n",
       " 'split0_test_score': array([0.82334957, 0.8199904 , 0.81855794, 0.82863088, 0.82392706,\n",
       "        0.82344595]),\n",
       " 'split1_test_score': array([0.82712456, 0.82680741, 0.82512171, 0.83384931, 0.8377503 ,\n",
       "        0.83242794]),\n",
       " 'split2_test_score': array([0.84820575, 0.84677584, 0.8466256 , 0.8477867 , 0.84933152,\n",
       "        0.84802247]),\n",
       " 'split3_test_score': array([0.84832705, 0.85001834, 0.85267569, 0.850514  , 0.8521596 ,\n",
       "        0.85334996]),\n",
       " 'split4_test_score': array([0.83067021, 0.83027671, 0.83168069, 0.84051583, 0.83715506,\n",
       "        0.83442149]),\n",
       " 'mean_test_score': array([0.83553543, 0.83477374, 0.83493232, 0.84025934, 0.84006471,\n",
       "        0.83833356]),\n",
       " 'std_test_score': array([0.01064961, 0.01165059, 0.01285692, 0.00822429, 0.01006386,\n",
       "        0.01087372]),\n",
       " 'rank_test_score': array([4, 6, 5, 1, 2, 3], dtype=int32)}"
      ]
     },
     "execution_count": 71,
     "metadata": {},
     "output_type": "execute_result"
    }
   ],
   "source": [
    "gsearch5.cv_results_"
   ]
  },
  {
   "cell_type": "code",
   "execution_count": 72,
   "metadata": {},
   "outputs": [
    {
     "data": {
      "text/plain": [
       "{'subsample': 0.8}"
      ]
     },
     "execution_count": 72,
     "metadata": {},
     "output_type": "execute_result"
    }
   ],
   "source": [
    "gsearch5.best_params_"
   ]
  },
  {
   "cell_type": "code",
   "execution_count": 73,
   "metadata": {},
   "outputs": [
    {
     "data": {
      "text/plain": [
       "0.840259343448756"
      ]
     },
     "execution_count": 73,
     "metadata": {},
     "output_type": "execute_result"
    }
   ],
   "source": [
    "gsearch5.best_score_"
   ]
  },
  {
   "cell_type": "code",
   "execution_count": 75,
   "metadata": {},
   "outputs": [
    {
     "data": {
      "text/plain": [
       "GradientBoostingClassifier(criterion='friedman_mse', init=None,\n",
       "                           learning_rate=0.05, loss='deviance', max_depth=7,\n",
       "                           max_features=7, max_leaf_nodes=None,\n",
       "                           min_impurity_decrease=0.0, min_impurity_split=None,\n",
       "                           min_samples_leaf=70, min_samples_split=1000,\n",
       "                           min_weight_fraction_leaf=0.0, n_estimators=140,\n",
       "                           n_iter_no_change=None, presort='auto',\n",
       "                           random_state=10, subsample=0.8, tol=0.0001,\n",
       "                           validation_fraction=0.1, verbose=0,\n",
       "                           warm_start=False)"
      ]
     },
     "execution_count": 75,
     "metadata": {},
     "output_type": "execute_result"
    }
   ],
   "source": [
    "gbdt_2 = GradientBoostingClassifier(\n",
    "    learning_rate = 0.05\n",
    "    , n_estimators = 140\n",
    "    , max_depth = 7\n",
    "    , min_samples_leaf = 70\n",
    "    , min_samples_split = 1000\n",
    "    , max_features = 7\n",
    "    , subsample=0.8\n",
    "    , random_state = 10\n",
    ")\n",
    "gbdt_2.fit(train_feature, train_label)"
   ]
  },
  {
   "cell_type": "code",
   "execution_count": 76,
   "metadata": {},
   "outputs": [],
   "source": [
    "pre_2 = gbdt_2.predict(train_feature)"
   ]
  },
  {
   "cell_type": "code",
   "execution_count": 77,
   "metadata": {},
   "outputs": [],
   "source": [
    "pre_prob_2 = gbdt_2.predict_proba(train_feature)[:,1]"
   ]
  },
  {
   "cell_type": "code",
   "execution_count": 78,
   "metadata": {},
   "outputs": [
    {
     "name": "stdout",
     "output_type": "stream",
     "text": [
      "Accaurcy: 0.9854\n"
     ]
    }
   ],
   "source": [
    "print(\"Accaurcy: %.4g\" %metrics.accuracy_score(train_label, pre_2))"
   ]
  },
  {
   "cell_type": "code",
   "execution_count": 79,
   "metadata": {},
   "outputs": [
    {
     "name": "stdout",
     "output_type": "stream",
     "text": [
      "AUC Score: 0.885606\n"
     ]
    }
   ],
   "source": [
    "print(\"AUC Score: %f\" %metrics.roc_auc_score(train_label, pre_prob_2))"
   ]
  },
  {
   "cell_type": "code",
   "execution_count": 80,
   "metadata": {},
   "outputs": [
    {
     "data": {
      "text/plain": [
       "GradientBoostingClassifier(criterion='friedman_mse', init=None,\n",
       "                           learning_rate=0.01, loss='deviance', max_depth=7,\n",
       "                           max_features=7, max_leaf_nodes=None,\n",
       "                           min_impurity_decrease=0.0, min_impurity_split=None,\n",
       "                           min_samples_leaf=70, min_samples_split=1000,\n",
       "                           min_weight_fraction_leaf=0.0, n_estimators=700,\n",
       "                           n_iter_no_change=None, presort='auto',\n",
       "                           random_state=10, subsample=0.8, tol=0.0001,\n",
       "                           validation_fraction=0.1, verbose=0,\n",
       "                           warm_start=False)"
      ]
     },
     "execution_count": 80,
     "metadata": {},
     "output_type": "execute_result"
    }
   ],
   "source": [
    "gbdt_3 = GradientBoostingClassifier(\n",
    "    learning_rate = 0.01\n",
    "    , n_estimators = 700\n",
    "    , max_depth = 7\n",
    "    , min_samples_leaf = 70\n",
    "    , min_samples_split = 1000\n",
    "    , max_features = 7\n",
    "    , subsample=0.8\n",
    "    , random_state = 10\n",
    ")\n",
    "gbdt_3.fit(train_feature, train_label)"
   ]
  },
  {
   "cell_type": "code",
   "execution_count": 81,
   "metadata": {},
   "outputs": [
    {
     "name": "stdout",
     "output_type": "stream",
     "text": [
      "Accaurcy: 0.9854\n",
      "AUC Score: 0.888031\n"
     ]
    }
   ],
   "source": [
    "pre_3 = gbdt_3.predict(train_feature)\n",
    "pre_prob_3 = gbdt_3.predict_proba(train_feature)[:,1]\n",
    "print(\"Accaurcy: %.4g\" %metrics.accuracy_score(train_label, pre_3))\n",
    "print(\"AUC Score: %f\" %metrics.roc_auc_score(train_label, pre_prob_3))"
   ]
  },
  {
   "cell_type": "code",
   "execution_count": 82,
   "metadata": {},
   "outputs": [
    {
     "data": {
      "text/plain": [
       "GradientBoostingClassifier(criterion='friedman_mse', init=None,\n",
       "                           learning_rate=0.005, loss='deviance', max_depth=7,\n",
       "                           max_features=7, max_leaf_nodes=None,\n",
       "                           min_impurity_decrease=0.0, min_impurity_split=None,\n",
       "                           min_samples_leaf=70, min_samples_split=1000,\n",
       "                           min_weight_fraction_leaf=0.0, n_estimators=1400,\n",
       "                           n_iter_no_change=None, presort='auto',\n",
       "                           random_state=10, subsample=0.8, tol=0.0001,\n",
       "                           validation_fraction=0.1, verbose=0,\n",
       "                           warm_start=False)"
      ]
     },
     "execution_count": 82,
     "metadata": {},
     "output_type": "execute_result"
    }
   ],
   "source": [
    "gbdt_4 = GradientBoostingClassifier(\n",
    "    learning_rate = 0.005\n",
    "    , n_estimators = 1400\n",
    "    , max_depth = 7\n",
    "    , min_samples_leaf = 70\n",
    "    , min_samples_split = 1000\n",
    "    , max_features = 7\n",
    "    , subsample=0.8\n",
    "    , random_state = 10\n",
    ")\n",
    "gbdt_4.fit(train_feature, train_label)"
   ]
  },
  {
   "cell_type": "code",
   "execution_count": 83,
   "metadata": {},
   "outputs": [
    {
     "name": "stdout",
     "output_type": "stream",
     "text": [
      "Accaurcy: 0.9854\n",
      "AUC Score: 0.888795\n"
     ]
    }
   ],
   "source": [
    "pre_4 = gbdt_4.predict(train_feature)\n",
    "pre_prob_4 = gbdt_4.predict_proba(train_feature)[:,1]\n",
    "print(\"Accaurcy: %.4g\" %metrics.accuracy_score(train_label, pre_4))\n",
    "print(\"AUC Score: %f\" %metrics.roc_auc_score(train_label, pre_prob_4))"
   ]
  },
  {
   "cell_type": "code",
   "execution_count": 84,
   "metadata": {},
   "outputs": [
    {
     "data": {
      "text/plain": [
       "GradientBoostingClassifier(criterion='friedman_mse', init=None,\n",
       "                           learning_rate=0.0025, loss='deviance', max_depth=7,\n",
       "                           max_features=7, max_leaf_nodes=None,\n",
       "                           min_impurity_decrease=0.0, min_impurity_split=None,\n",
       "                           min_samples_leaf=70, min_samples_split=1000,\n",
       "                           min_weight_fraction_leaf=0.0, n_estimators=2800,\n",
       "                           n_iter_no_change=None, presort='auto',\n",
       "                           random_state=10, subsample=0.8, tol=0.0001,\n",
       "                           validation_fraction=0.1, verbose=0,\n",
       "                           warm_start=False)"
      ]
     },
     "execution_count": 84,
     "metadata": {},
     "output_type": "execute_result"
    }
   ],
   "source": [
    "gbdt_5 = GradientBoostingClassifier(\n",
    "    learning_rate = 0.0025\n",
    "    , n_estimators = 2800\n",
    "    , max_depth = 7\n",
    "    , min_samples_leaf = 70\n",
    "    , min_samples_split = 1000\n",
    "    , max_features = 7\n",
    "    , subsample=0.8\n",
    "    , random_state = 10\n",
    ")\n",
    "gbdt_5.fit(train_feature, train_label)"
   ]
  },
  {
   "cell_type": "code",
   "execution_count": 85,
   "metadata": {},
   "outputs": [
    {
     "name": "stdout",
     "output_type": "stream",
     "text": [
      "Accaurcy: 0.9854\n",
      "AUC Score: 0.888396\n"
     ]
    }
   ],
   "source": [
    "pre_5 = gbdt_5.predict(train_feature)\n",
    "pre_prob_5 = gbdt_5.predict_proba(train_feature)[:,1]\n",
    "print(\"Accaurcy: %.4g\" %metrics.accuracy_score(train_label, pre_5))\n",
    "print(\"AUC Score: %f\" %metrics.roc_auc_score(train_label, pre_prob_5))"
   ]
  },
  {
   "cell_type": "code",
   "execution_count": null,
   "metadata": {},
   "outputs": [],
   "source": []
  }
 ],
 "metadata": {
  "kernelspec": {
   "display_name": "Python 3",
   "language": "python",
   "name": "python3"
  },
  "language_info": {
   "codemirror_mode": {
    "name": "ipython",
    "version": 3
   },
   "file_extension": ".py",
   "mimetype": "text/x-python",
   "name": "python",
   "nbconvert_exporter": "python",
   "pygments_lexer": "ipython3",
   "version": "3.7.4"
  }
 },
 "nbformat": 4,
 "nbformat_minor": 2
}
